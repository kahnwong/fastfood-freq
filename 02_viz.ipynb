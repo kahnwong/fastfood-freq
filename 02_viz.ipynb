{
 "cells": [
  {
   "cell_type": "code",
   "execution_count": null,
   "metadata": {},
   "outputs": [],
   "source": [
    "import geopandas as gpd\n",
    "import pandas as pd\n",
    "import geoplot as gplt\n",
    "from shapely.geometry import Point\n",
    "import matplotlib.pyplot as plt\n",
    "from geoplot import pointplot"
   ]
  },
  {
   "cell_type": "code",
   "execution_count": null,
   "metadata": {},
   "outputs": [],
   "source": [
    "df = pd.read_csv(\"restaurants_chain.csv\")\n",
    "geometry = [Point(xy) for xy in zip(df.longitude, df.latitude)]\n",
    "crs = {\"init\": \"epsg:4326\"}\n",
    "df = gpd.GeoDataFrame(df, crs=crs, geometry=geometry)\n",
    "\n",
    "df"
   ]
  },
  {
   "cell_type": "code",
   "execution_count": null,
   "metadata": {},
   "outputs": [],
   "source": [
    "chains = df.chain.unique()\n",
    "len(chains)"
   ]
  },
  {
   "cell_type": "code",
   "execution_count": null,
   "metadata": {},
   "outputs": [],
   "source": [
    "thailand = gpd.read_file(\"/Users/kahnwong/Git/gis/thailand_prov.shp\")\n",
    "thailand"
   ]
  },
  {
   "cell_type": "code",
   "execution_count": null,
   "metadata": {
    "jupyter": {
     "outputs_hidden": true
    }
   },
   "outputs": [],
   "source": [
    "import os\n",
    "\n",
    "os.makedirs(\"plot\", exist_ok=True)\n",
    "\n",
    "\n",
    "extent = thailand.total_bounds\n",
    "\n",
    "for chain in chains:\n",
    "\n",
    "    ax = gplt.polyplot(thailand)\n",
    "\n",
    "    query = df[df.chain == chain]\n",
    "    gplt.pointplot(query, ax=ax, extent=extent)\n",
    "\n",
    "    plt.title(chain)\n",
    "\n",
    "    plt.savefig(\"plot/{}.png\".format(chain))\n",
    "#     break"
   ]
  },
  {
   "cell_type": "code",
   "execution_count": null,
   "metadata": {},
   "outputs": [],
   "source": [
    "axs[0][0]"
   ]
  },
  {
   "cell_type": "code",
   "execution_count": null,
   "metadata": {},
   "outputs": [],
   "source": [
    "x = 5\n",
    "y = 4\n",
    "\n",
    "\n",
    "fig, axs = plt.subplots(x, y, figsize=(15, 15))\n",
    "\n",
    "counter = 0\n",
    "for i in range(x):\n",
    "    for j in range(y):\n",
    "        #         print(i, j)\n",
    "\n",
    "        axs[i][j] = gplt.polyplot(thailand)\n",
    "        #         gplt.pointplot(df[df.chain==chains[counter]], ax=axs[i][j], extent=extent)\n",
    "        axs[i][j].set_title(chains[counter])\n",
    "        counter += 1\n",
    "\n",
    "        break\n",
    "\n",
    "    break"
   ]
  },
  {
   "cell_type": "code",
   "execution_count": null,
   "metadata": {},
   "outputs": [],
   "source": [
    "fig.savefig(\"result.png\")"
   ]
  },
  {
   "cell_type": "code",
   "execution_count": null,
   "metadata": {},
   "outputs": [],
   "source": []
  }
 ],
 "metadata": {
  "kernelspec": {
   "display_name": "Python [conda env:py37] *",
   "language": "python",
   "name": "conda-env-py37-py"
  },
  "language_info": {
   "codemirror_mode": {
    "name": "ipython",
    "version": 3
   },
   "file_extension": ".py",
   "mimetype": "text/x-python",
   "name": "python",
   "nbconvert_exporter": "python",
   "pygments_lexer": "ipython3",
   "version": "3.7.7"
  }
 },
 "nbformat": 4,
 "nbformat_minor": 4
}
