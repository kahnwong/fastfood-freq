{
 "cells": [
  {
   "cell_type": "code",
   "execution_count": null,
   "metadata": {},
   "outputs": [],
   "source": [
    "import json\n",
    "import pandas as pd"
   ]
  },
  {
   "cell_type": "code",
   "execution_count": null,
   "metadata": {},
   "outputs": [],
   "source": [
    "with open(\"restaurant_master_spark.json\", \"r\") as f:\n",
    "    data = f.readlines()"
   ]
  },
  {
   "cell_type": "code",
   "execution_count": null,
   "metadata": {},
   "outputs": [],
   "source": [
    "data = [json.loads(i) for i in data]"
   ]
  },
  {
   "cell_type": "code",
   "execution_count": null,
   "metadata": {},
   "outputs": [],
   "source": [
    "df = pd.DataFrame(data)"
   ]
  },
  {
   "cell_type": "code",
   "execution_count": null,
   "metadata": {},
   "outputs": [],
   "source": [
    "chains = [\n",
    "    \"McDonald\",\n",
    "    \"Sizzler\",\n",
    "    \"KFC\",\n",
    "    \"Taco Bell\",\n",
    "    \"After You\",\n",
    "    \"S&P\",\n",
    "    \"MK Restaurant\",\n",
    "    \"Black Canyon\",\n",
    "    \"Chester's\",\n",
    "    \"Starbucks\",\n",
    "    \"Pizza Hut\",\n",
    "    \"Pizza Company\",\n",
    "    \"Dunkin\",\n",
    "    \"Mister Donut\",\n",
    "    \"Burger King\",\n",
    "    \"A&W\",\n",
    "    \"Swensen\",\n",
    "    \"Subway\",\n",
    "    \"Shabushi\",\n",
    "    \"Sukishi\",\n",
    "]\n",
    "\n",
    "dfs_out = []\n",
    "for i in chains:\n",
    "    temp = df[df.name_primary.str.contains(i)][\n",
    "        [\"name_primary\", \"latitude\", \"longitude\", \"url\"]\n",
    "    ]\n",
    "    temp[\"chain\"] = i\n",
    "    dfs_out.append(temp)\n",
    "\n",
    "pd.concat(dfs_out).to_csv(\"restaurants_chain.csv\", index=False)"
   ]
  },
  {
   "cell_type": "code",
   "execution_count": null,
   "metadata": {},
   "outputs": [],
   "source": [
    "# mcdonald = df[df.slug.str.contains('mcdonald')][['latitude', 'longitude', 'url']]"
   ]
  },
  {
   "cell_type": "code",
   "execution_count": null,
   "metadata": {},
   "outputs": [],
   "source": [
    "# df[df.name_primary.str.contains(\"Sukishi\")][['name_primary', 'latitude', 'longitude', 'url']]"
   ]
  },
  {
   "cell_type": "code",
   "execution_count": null,
   "metadata": {},
   "outputs": [],
   "source": []
  }
 ],
 "metadata": {
  "kernelspec": {
   "display_name": "Python [conda env:py37] *",
   "language": "python",
   "name": "conda-env-py37-py"
  },
  "language_info": {
   "codemirror_mode": {
    "name": "ipython",
    "version": 3
   },
   "file_extension": ".py",
   "mimetype": "text/x-python",
   "name": "python",
   "nbconvert_exporter": "python",
   "pygments_lexer": "ipython3",
   "version": "3.7.7"
  }
 },
 "nbformat": 4,
 "nbformat_minor": 4
}
